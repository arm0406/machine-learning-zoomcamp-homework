{
 "cells": [
  {
   "cell_type": "code",
   "execution_count": 1,
   "id": "e61f5bbb-fa53-4fc5-bdc5-f40e4bb833b5",
   "metadata": {},
   "outputs": [],
   "source": [
    "import numpy as np\n",
    "import pandas as pd\n",
    "import matplotlib.pyplot as plt\n",
    "import seaborn as sns"
   ]
  },
  {
   "cell_type": "code",
   "execution_count": 2,
   "id": "7a345772-aaba-4c38-8b45-a565f0f43dc6",
   "metadata": {},
   "outputs": [],
   "source": [
    "df=pd.read_csv(\"https://raw.githubusercontent.com/alexeygrigorev/datasets/master/car_fuel_efficiency.csv\")"
   ]
  },
  {
   "cell_type": "code",
   "execution_count": 3,
   "id": "79df8510-2fa3-437a-8f27-83648c037ea9",
   "metadata": {},
   "outputs": [
    {
     "data": {
      "text/plain": [
       "'2.3.1'"
      ]
     },
     "execution_count": 3,
     "metadata": {},
     "output_type": "execute_result"
    }
   ],
   "source": [
    "pd.__version__"
   ]
  },
  {
   "cell_type": "code",
   "execution_count": 4,
   "id": "b15f4b84-8c84-4b84-a327-7742437021c9",
   "metadata": {},
   "outputs": [
    {
     "data": {
      "text/plain": [
       "(9704, 11)"
      ]
     },
     "execution_count": 4,
     "metadata": {},
     "output_type": "execute_result"
    }
   ],
   "source": [
    "df.shape"
   ]
  },
  {
   "cell_type": "code",
   "execution_count": 5,
   "id": "c559540f-6130-4b81-9c09-ad610d2294e6",
   "metadata": {},
   "outputs": [
    {
     "data": {
      "text/plain": [
       "fuel_type\n",
       "Gasoline    4898\n",
       "Diesel      4806\n",
       "Name: count, dtype: int64"
      ]
     },
     "execution_count": 5,
     "metadata": {},
     "output_type": "execute_result"
    }
   ],
   "source": [
    "df['fuel_type'].value_counts()"
   ]
  },
  {
   "cell_type": "code",
   "execution_count": 6,
   "id": "0cdf77c0-84e7-4cdf-a933-d5b518f4bcdf",
   "metadata": {},
   "outputs": [],
   "source": [
    "null_values=df.columns[df.isna().any()]"
   ]
  },
  {
   "cell_type": "code",
   "execution_count": 7,
   "id": "fe314762-29cc-454f-975c-6bb40cdd8f52",
   "metadata": {},
   "outputs": [
    {
     "data": {
      "text/plain": [
       "4"
      ]
     },
     "execution_count": 7,
     "metadata": {},
     "output_type": "execute_result"
    }
   ],
   "source": [
    "len(null_values)"
   ]
  },
  {
   "cell_type": "code",
   "execution_count": 8,
   "id": "4b581b44-d18e-4ef0-bfea-1fd1e707387d",
   "metadata": {},
   "outputs": [
    {
     "data": {
      "text/plain": [
       "np.float64(23.759122836520497)"
      ]
     },
     "execution_count": 8,
     "metadata": {},
     "output_type": "execute_result"
    }
   ],
   "source": [
    "df.groupby('origin')['fuel_efficiency_mpg'].max()['Asia']"
   ]
  },
  {
   "cell_type": "code",
   "execution_count": 9,
   "id": "94405207-7f86-4fbd-86b4-012f49c6892e",
   "metadata": {},
   "outputs": [
    {
     "data": {
      "text/plain": [
       "np.float64(149.0)"
      ]
     },
     "execution_count": 9,
     "metadata": {},
     "output_type": "execute_result"
    }
   ],
   "source": [
    "df['horsepower'].median()"
   ]
  },
  {
   "cell_type": "code",
   "execution_count": 10,
   "id": "3adc77b1-1177-450e-94bb-947c9ac7254c",
   "metadata": {},
   "outputs": [
    {
     "data": {
      "text/plain": [
       "np.float64(152.0)"
      ]
     },
     "execution_count": 10,
     "metadata": {},
     "output_type": "execute_result"
    }
   ],
   "source": [
    "df['horsepower'].mode()[0]"
   ]
  },
  {
   "cell_type": "code",
   "execution_count": 11,
   "id": "58863c35-807c-471d-91f6-1dc3adf35c6f",
   "metadata": {},
   "outputs": [],
   "source": [
    "df['horsepower'] = df['horsepower'].fillna(df['horsepower'].mode()[0])"
   ]
  },
  {
   "cell_type": "code",
   "execution_count": 12,
   "id": "4c367908-5210-468c-9edf-9588ecffed8f",
   "metadata": {},
   "outputs": [
    {
     "data": {
      "text/plain": [
       "np.float64(152.0)"
      ]
     },
     "execution_count": 12,
     "metadata": {},
     "output_type": "execute_result"
    }
   ],
   "source": [
    "df['horsepower'].median()"
   ]
  },
  {
   "cell_type": "code",
   "execution_count": 13,
   "id": "f6bfe958-30cc-44b9-ab21-b327a31a7dae",
   "metadata": {},
   "outputs": [],
   "source": [
    "asia_cars = df[df['origin'] == 'Asia']"
   ]
  },
  {
   "cell_type": "code",
   "execution_count": 14,
   "id": "20a89a81-bf6b-4cc5-9ea3-dd505d05002b",
   "metadata": {},
   "outputs": [],
   "source": [
    "cols = ['vehicle_weight', 'model_year']\n",
    "selected_asia_cars =asia_cars[cols].head(7)"
   ]
  },
  {
   "cell_type": "code",
   "execution_count": 15,
   "id": "32ca1870-a0f5-4660-9908-30b39db152d7",
   "metadata": {},
   "outputs": [],
   "source": [
    "X = selected_asia_cars.to_numpy()"
   ]
  },
  {
   "cell_type": "code",
   "execution_count": 16,
   "id": "e0512a97-82e7-4ac2-92f8-cb6a26e4fe19",
   "metadata": {},
   "outputs": [],
   "source": [
    "XTX = X.T.dot(X)"
   ]
  },
  {
   "cell_type": "code",
   "execution_count": 17,
   "id": "45b85cc1-7c0c-4160-ada4-72fe3f3a8239",
   "metadata": {},
   "outputs": [],
   "source": [
    "XTX_inv = np.linalg.inv(XTX)"
   ]
  },
  {
   "cell_type": "code",
   "execution_count": 18,
   "id": "ffe3a555-8f18-43d5-a2ce-04e1ab91e311",
   "metadata": {},
   "outputs": [],
   "source": [
    "y = np.array([1100, 1300, 800, 900, 1000, 1100, 1200])"
   ]
  },
  {
   "cell_type": "code",
   "execution_count": 19,
   "id": "781adc12-6f5f-4cc7-853f-db8cbfff8d2d",
   "metadata": {},
   "outputs": [],
   "source": [
    "w = XTX_inv.dot(X.T).dot(y)"
   ]
  },
  {
   "cell_type": "code",
   "execution_count": 20,
   "id": "520a1b6d-0151-4922-95f1-8405774a950e",
   "metadata": {},
   "outputs": [],
   "source": [
    "result = w.sum()"
   ]
  },
  {
   "cell_type": "code",
   "execution_count": 21,
   "id": "04051e0e-f9b2-49c5-a90e-8a540c691ce0",
   "metadata": {},
   "outputs": [
    {
     "name": "stdout",
     "output_type": "stream",
     "text": [
      "0.5187709081074016\n"
     ]
    }
   ],
   "source": [
    "print(result)"
   ]
  },
  {
   "cell_type": "code",
   "execution_count": null,
   "id": "ab739afa-50bd-4f1e-a1f3-35c56a2f6f92",
   "metadata": {},
   "outputs": [],
   "source": []
  }
 ],
 "metadata": {
  "kernelspec": {
   "display_name": "Python 3 (ipykernel)",
   "language": "python",
   "name": "python3"
  },
  "language_info": {
   "codemirror_mode": {
    "name": "ipython",
    "version": 3
   },
   "file_extension": ".py",
   "mimetype": "text/x-python",
   "name": "python",
   "nbconvert_exporter": "python",
   "pygments_lexer": "ipython3",
   "version": "3.12.1"
  }
 },
 "nbformat": 4,
 "nbformat_minor": 5
}
